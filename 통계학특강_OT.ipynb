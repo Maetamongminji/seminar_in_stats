{
  "nbformat": 4,
  "nbformat_minor": 0,
  "metadata": {
    "colab": {
      "name": "통계학특강 OT.ipynb",
      "provenance": [],
      "authorship_tag": "ABX9TyNJXugTV/f400xVje7Qf4xg",
      "include_colab_link": true
    },
    "kernelspec": {
      "name": "python3",
      "display_name": "Python 3"
    }
  },
  "cells": [
    {
      "cell_type": "markdown",
      "metadata": {
        "id": "view-in-github",
        "colab_type": "text"
      },
      "source": [
        "<a href=\"https://colab.research.google.com/github/Maetamongminji/seminar_in_stats/blob/main/%ED%86%B5%EA%B3%84%ED%95%99%ED%8A%B9%EA%B0%95_OT.ipynb\" target=\"_parent\"><img src=\"https://colab.research.google.com/assets/colab-badge.svg\" alt=\"Open In Colab\"/></a>"
      ]
    },
    {
      "cell_type": "code",
      "metadata": {
        "colab": {
          "base_uri": "https://localhost:8080/"
        },
        "id": "KrWsDqWCrC7_",
        "outputId": "ac76f5f7-b1ef-42b4-f31e-cd86d8ff7f49"
      },
      "source": [
        "print(\"통계학특강 OT\")"
      ],
      "execution_count": 1,
      "outputs": [
        {
          "output_type": "stream",
          "text": [
            "통계학특강 OT\n"
          ],
          "name": "stdout"
        }
      ]
    },
    {
      "cell_type": "code",
      "metadata": {
        "id": "akUiC3Q3rIfX"
      },
      "source": [
        ""
      ],
      "execution_count": null,
      "outputs": []
    }
  ]
}