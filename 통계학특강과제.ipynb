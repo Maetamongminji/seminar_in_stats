{
  "nbformat": 4,
  "nbformat_minor": 0,
  "metadata": {
    "colab": {
      "name": "통계학특강과제.ipynb",
      "provenance": [],
      "collapsed_sections": [],
      "authorship_tag": "ABX9TyMgKLX3rEshiqFmwqz6pAhX",
      "include_colab_link": true
    },
    "kernelspec": {
      "name": "ir",
      "display_name": "R"
    },
    "language_info": {
      "name": "R"
    }
  },
  "cells": [
    {
      "cell_type": "markdown",
      "metadata": {
        "id": "view-in-github",
        "colab_type": "text"
      },
      "source": [
        "<a href=\"https://colab.research.google.com/github/Maetamongminji/seminar_in_stats/blob/main/%ED%86%B5%EA%B3%84%ED%95%99%ED%8A%B9%EA%B0%95%EA%B3%BC%EC%A0%9C.ipynb\" target=\"_parent\"><img src=\"https://colab.research.google.com/assets/colab-badge.svg\" alt=\"Open In Colab\"/></a>"
      ]
    },
    {
      "cell_type": "markdown",
      "metadata": {
        "id": "KBX2d__OT2Rz"
      },
      "source": [
        "### __Installing packages and checking the data__"
      ]
    },
    {
      "cell_type": "code",
      "metadata": {
        "colab": {
          "base_uri": "https://localhost:8080/"
        },
        "id": "7_QY544pSft7",
        "outputId": "b8b8c012-7b3f-4b7d-a7e8-5a2b4a97f2d6"
      },
      "source": [
        "install.packages(\"nycflights13\")"
      ],
      "execution_count": 36,
      "outputs": [
        {
          "output_type": "stream",
          "text": [
            "Installing package into ‘/usr/local/lib/R/site-library’\n",
            "(as ‘lib’ is unspecified)\n",
            "\n"
          ],
          "name": "stderr"
        }
      ]
    },
    {
      "cell_type": "code",
      "metadata": {
        "id": "_jUneMMcRvsr"
      },
      "source": [
        "library(nycflights13)"
      ],
      "execution_count": 37,
      "outputs": []
    },
    {
      "cell_type": "code",
      "metadata": {
        "id": "EbO4nuU8TXHh"
      },
      "source": [
        "library(tidyverse)"
      ],
      "execution_count": 38,
      "outputs": []
    },
    {
      "cell_type": "code",
      "metadata": {
        "colab": {
          "base_uri": "https://localhost:8080/",
          "height": 438
        },
        "id": "g3pdUQkHSaIt",
        "outputId": "dbd315d6-6f6c-4ab9-a57e-355b06052bad"
      },
      "source": [
        "flights %>% head(5)"
      ],
      "execution_count": 39,
      "outputs": [
        {
          "output_type": "display_data",
          "data": {
            "text/plain": [
              "  year month day dep_time sched_dep_time dep_delay arr_time sched_arr_time\n",
              "1 2013 1     1   517      515             2         830      819          \n",
              "2 2013 1     1   533      529             4         850      830          \n",
              "3 2013 1     1   542      540             2         923      850          \n",
              "4 2013 1     1   544      545            -1        1004     1022          \n",
              "5 2013 1     1   554      600            -6         812      837          \n",
              "  arr_delay carrier flight tailnum origin dest air_time distance hour minute\n",
              "1  11       UA      1545   N14228  EWR    IAH  227      1400     5    15    \n",
              "2  20       UA      1714   N24211  LGA    IAH  227      1416     5    29    \n",
              "3  33       AA      1141   N619AA  JFK    MIA  160      1089     5    40    \n",
              "4 -18       B6       725   N804JB  JFK    BQN  183      1576     5    45    \n",
              "5 -25       DL       461   N668DN  LGA    ATL  116       762     6     0    \n",
              "  time_hour          \n",
              "1 2013-01-01 05:00:00\n",
              "2 2013-01-01 05:00:00\n",
              "3 2013-01-01 05:00:00\n",
              "4 2013-01-01 05:00:00\n",
              "5 2013-01-01 06:00:00"
            ],
            "text/latex": "A tibble: 5 × 19\n\\begin{tabular}{lllllllllllllllllll}\n year & month & day & dep\\_time & sched\\_dep\\_time & dep\\_delay & arr\\_time & sched\\_arr\\_time & arr\\_delay & carrier & flight & tailnum & origin & dest & air\\_time & distance & hour & minute & time\\_hour\\\\\n <int> & <int> & <int> & <int> & <int> & <dbl> & <int> & <int> & <dbl> & <chr> & <int> & <chr> & <chr> & <chr> & <dbl> & <dbl> & <dbl> & <dbl> & <dttm>\\\\\n\\hline\n\t 2013 & 1 & 1 & 517 & 515 &  2 &  830 &  819 &  11 & UA & 1545 & N14228 & EWR & IAH & 227 & 1400 & 5 & 15 & 2013-01-01 05:00:00\\\\\n\t 2013 & 1 & 1 & 533 & 529 &  4 &  850 &  830 &  20 & UA & 1714 & N24211 & LGA & IAH & 227 & 1416 & 5 & 29 & 2013-01-01 05:00:00\\\\\n\t 2013 & 1 & 1 & 542 & 540 &  2 &  923 &  850 &  33 & AA & 1141 & N619AA & JFK & MIA & 160 & 1089 & 5 & 40 & 2013-01-01 05:00:00\\\\\n\t 2013 & 1 & 1 & 544 & 545 & -1 & 1004 & 1022 & -18 & B6 &  725 & N804JB & JFK & BQN & 183 & 1576 & 5 & 45 & 2013-01-01 05:00:00\\\\\n\t 2013 & 1 & 1 & 554 & 600 & -6 &  812 &  837 & -25 & DL &  461 & N668DN & LGA & ATL & 116 &  762 & 6 &  0 & 2013-01-01 06:00:00\\\\\n\\end{tabular}\n",
            "text/markdown": "\nA tibble: 5 × 19\n\n| year &lt;int&gt; | month &lt;int&gt; | day &lt;int&gt; | dep_time &lt;int&gt; | sched_dep_time &lt;int&gt; | dep_delay &lt;dbl&gt; | arr_time &lt;int&gt; | sched_arr_time &lt;int&gt; | arr_delay &lt;dbl&gt; | carrier &lt;chr&gt; | flight &lt;int&gt; | tailnum &lt;chr&gt; | origin &lt;chr&gt; | dest &lt;chr&gt; | air_time &lt;dbl&gt; | distance &lt;dbl&gt; | hour &lt;dbl&gt; | minute &lt;dbl&gt; | time_hour &lt;dttm&gt; |\n|---|---|---|---|---|---|---|---|---|---|---|---|---|---|---|---|---|---|---|\n| 2013 | 1 | 1 | 517 | 515 |  2 |  830 |  819 |  11 | UA | 1545 | N14228 | EWR | IAH | 227 | 1400 | 5 | 15 | 2013-01-01 05:00:00 |\n| 2013 | 1 | 1 | 533 | 529 |  4 |  850 |  830 |  20 | UA | 1714 | N24211 | LGA | IAH | 227 | 1416 | 5 | 29 | 2013-01-01 05:00:00 |\n| 2013 | 1 | 1 | 542 | 540 |  2 |  923 |  850 |  33 | AA | 1141 | N619AA | JFK | MIA | 160 | 1089 | 5 | 40 | 2013-01-01 05:00:00 |\n| 2013 | 1 | 1 | 544 | 545 | -1 | 1004 | 1022 | -18 | B6 |  725 | N804JB | JFK | BQN | 183 | 1576 | 5 | 45 | 2013-01-01 05:00:00 |\n| 2013 | 1 | 1 | 554 | 600 | -6 |  812 |  837 | -25 | DL |  461 | N668DN | LGA | ATL | 116 |  762 | 6 |  0 | 2013-01-01 06:00:00 |\n\n",
            "text/html": [
              "<table class=\"dataframe\">\n",
              "<caption>A tibble: 5 × 19</caption>\n",
              "<thead>\n",
              "\t<tr><th scope=col>year</th><th scope=col>month</th><th scope=col>day</th><th scope=col>dep_time</th><th scope=col>sched_dep_time</th><th scope=col>dep_delay</th><th scope=col>arr_time</th><th scope=col>sched_arr_time</th><th scope=col>arr_delay</th><th scope=col>carrier</th><th scope=col>flight</th><th scope=col>tailnum</th><th scope=col>origin</th><th scope=col>dest</th><th scope=col>air_time</th><th scope=col>distance</th><th scope=col>hour</th><th scope=col>minute</th><th scope=col>time_hour</th></tr>\n",
              "\t<tr><th scope=col>&lt;int&gt;</th><th scope=col>&lt;int&gt;</th><th scope=col>&lt;int&gt;</th><th scope=col>&lt;int&gt;</th><th scope=col>&lt;int&gt;</th><th scope=col>&lt;dbl&gt;</th><th scope=col>&lt;int&gt;</th><th scope=col>&lt;int&gt;</th><th scope=col>&lt;dbl&gt;</th><th scope=col>&lt;chr&gt;</th><th scope=col>&lt;int&gt;</th><th scope=col>&lt;chr&gt;</th><th scope=col>&lt;chr&gt;</th><th scope=col>&lt;chr&gt;</th><th scope=col>&lt;dbl&gt;</th><th scope=col>&lt;dbl&gt;</th><th scope=col>&lt;dbl&gt;</th><th scope=col>&lt;dbl&gt;</th><th scope=col>&lt;dttm&gt;</th></tr>\n",
              "</thead>\n",
              "<tbody>\n",
              "\t<tr><td>2013</td><td>1</td><td>1</td><td>517</td><td>515</td><td> 2</td><td> 830</td><td> 819</td><td> 11</td><td>UA</td><td>1545</td><td>N14228</td><td>EWR</td><td>IAH</td><td>227</td><td>1400</td><td>5</td><td>15</td><td>2013-01-01 05:00:00</td></tr>\n",
              "\t<tr><td>2013</td><td>1</td><td>1</td><td>533</td><td>529</td><td> 4</td><td> 850</td><td> 830</td><td> 20</td><td>UA</td><td>1714</td><td>N24211</td><td>LGA</td><td>IAH</td><td>227</td><td>1416</td><td>5</td><td>29</td><td>2013-01-01 05:00:00</td></tr>\n",
              "\t<tr><td>2013</td><td>1</td><td>1</td><td>542</td><td>540</td><td> 2</td><td> 923</td><td> 850</td><td> 33</td><td>AA</td><td>1141</td><td>N619AA</td><td>JFK</td><td>MIA</td><td>160</td><td>1089</td><td>5</td><td>40</td><td>2013-01-01 05:00:00</td></tr>\n",
              "\t<tr><td>2013</td><td>1</td><td>1</td><td>544</td><td>545</td><td>-1</td><td>1004</td><td>1022</td><td>-18</td><td>B6</td><td> 725</td><td>N804JB</td><td>JFK</td><td>BQN</td><td>183</td><td>1576</td><td>5</td><td>45</td><td>2013-01-01 05:00:00</td></tr>\n",
              "\t<tr><td>2013</td><td>1</td><td>1</td><td>554</td><td>600</td><td>-6</td><td> 812</td><td> 837</td><td>-25</td><td>DL</td><td> 461</td><td>N668DN</td><td>LGA</td><td>ATL</td><td>116</td><td> 762</td><td>6</td><td> 0</td><td>2013-01-01 06:00:00</td></tr>\n",
              "</tbody>\n",
              "</table>\n"
            ]
          },
          "metadata": {
            "tags": []
          }
        }
      ]
    },
    {
      "cell_type": "markdown",
      "metadata": {
        "id": "-uFlVzZTSoYb"
      },
      "source": [
        "### __Practicing dplyr functions(filter, select, …)__"
      ]
    },
    {
      "cell_type": "markdown",
      "metadata": {
        "id": "2YYMw3HaUmjW"
      },
      "source": [
        "### filter rows that match the condition - filter()"
      ]
    },
    {
      "cell_type": "code",
      "metadata": {
        "colab": {
          "base_uri": "https://localhost:8080/",
          "height": 438
        },
        "id": "EwerYF07S5K_",
        "outputId": "e2157eb5-6ec6-4df9-e89f-75ab7ce94c8f"
      },
      "source": [
        "# distance가 1000보다 작고 dest가 ATL인 데이터 필터링하기\n",
        "\n",
        "filter(flights, distance<1000, dest == \"ATL\") %>% head(5)"
      ],
      "execution_count": 40,
      "outputs": [
        {
          "output_type": "display_data",
          "data": {
            "text/plain": [
              "  year month day dep_time sched_dep_time dep_delay arr_time sched_arr_time\n",
              "1 2013 1     1   554      600            -6        812      837           \n",
              "2 2013 1     1   600      600             0        837      825           \n",
              "3 2013 1     1   606      610            -4        837      845           \n",
              "4 2013 1     1   615      615             0        833      842           \n",
              "5 2013 1     1   658      700            -2        944      939           \n",
              "  arr_delay carrier flight tailnum origin dest air_time distance hour minute\n",
              "1 -25       DL       461   N668DN  LGA    ATL  116      762      6     0    \n",
              "2  12       MQ      4650   N542MQ  LGA    ATL  134      762      6     0    \n",
              "3  -8       DL      1743   N3739P  JFK    ATL  128      760      6    10    \n",
              "4  -9       DL       575   N326NB  EWR    ATL  120      746      6    15    \n",
              "5   5       DL      1547   N6703D  LGA    ATL  126      762      7     0    \n",
              "  time_hour          \n",
              "1 2013-01-01 06:00:00\n",
              "2 2013-01-01 06:00:00\n",
              "3 2013-01-01 06:00:00\n",
              "4 2013-01-01 06:00:00\n",
              "5 2013-01-01 07:00:00"
            ],
            "text/latex": "A tibble: 5 × 19\n\\begin{tabular}{lllllllllllllllllll}\n year & month & day & dep\\_time & sched\\_dep\\_time & dep\\_delay & arr\\_time & sched\\_arr\\_time & arr\\_delay & carrier & flight & tailnum & origin & dest & air\\_time & distance & hour & minute & time\\_hour\\\\\n <int> & <int> & <int> & <int> & <int> & <dbl> & <int> & <int> & <dbl> & <chr> & <int> & <chr> & <chr> & <chr> & <dbl> & <dbl> & <dbl> & <dbl> & <dttm>\\\\\n\\hline\n\t 2013 & 1 & 1 & 554 & 600 & -6 & 812 & 837 & -25 & DL &  461 & N668DN & LGA & ATL & 116 & 762 & 6 &  0 & 2013-01-01 06:00:00\\\\\n\t 2013 & 1 & 1 & 600 & 600 &  0 & 837 & 825 &  12 & MQ & 4650 & N542MQ & LGA & ATL & 134 & 762 & 6 &  0 & 2013-01-01 06:00:00\\\\\n\t 2013 & 1 & 1 & 606 & 610 & -4 & 837 & 845 &  -8 & DL & 1743 & N3739P & JFK & ATL & 128 & 760 & 6 & 10 & 2013-01-01 06:00:00\\\\\n\t 2013 & 1 & 1 & 615 & 615 &  0 & 833 & 842 &  -9 & DL &  575 & N326NB & EWR & ATL & 120 & 746 & 6 & 15 & 2013-01-01 06:00:00\\\\\n\t 2013 & 1 & 1 & 658 & 700 & -2 & 944 & 939 &   5 & DL & 1547 & N6703D & LGA & ATL & 126 & 762 & 7 &  0 & 2013-01-01 07:00:00\\\\\n\\end{tabular}\n",
            "text/markdown": "\nA tibble: 5 × 19\n\n| year &lt;int&gt; | month &lt;int&gt; | day &lt;int&gt; | dep_time &lt;int&gt; | sched_dep_time &lt;int&gt; | dep_delay &lt;dbl&gt; | arr_time &lt;int&gt; | sched_arr_time &lt;int&gt; | arr_delay &lt;dbl&gt; | carrier &lt;chr&gt; | flight &lt;int&gt; | tailnum &lt;chr&gt; | origin &lt;chr&gt; | dest &lt;chr&gt; | air_time &lt;dbl&gt; | distance &lt;dbl&gt; | hour &lt;dbl&gt; | minute &lt;dbl&gt; | time_hour &lt;dttm&gt; |\n|---|---|---|---|---|---|---|---|---|---|---|---|---|---|---|---|---|---|---|\n| 2013 | 1 | 1 | 554 | 600 | -6 | 812 | 837 | -25 | DL |  461 | N668DN | LGA | ATL | 116 | 762 | 6 |  0 | 2013-01-01 06:00:00 |\n| 2013 | 1 | 1 | 600 | 600 |  0 | 837 | 825 |  12 | MQ | 4650 | N542MQ | LGA | ATL | 134 | 762 | 6 |  0 | 2013-01-01 06:00:00 |\n| 2013 | 1 | 1 | 606 | 610 | -4 | 837 | 845 |  -8 | DL | 1743 | N3739P | JFK | ATL | 128 | 760 | 6 | 10 | 2013-01-01 06:00:00 |\n| 2013 | 1 | 1 | 615 | 615 |  0 | 833 | 842 |  -9 | DL |  575 | N326NB | EWR | ATL | 120 | 746 | 6 | 15 | 2013-01-01 06:00:00 |\n| 2013 | 1 | 1 | 658 | 700 | -2 | 944 | 939 |   5 | DL | 1547 | N6703D | LGA | ATL | 126 | 762 | 7 |  0 | 2013-01-01 07:00:00 |\n\n",
            "text/html": [
              "<table class=\"dataframe\">\n",
              "<caption>A tibble: 5 × 19</caption>\n",
              "<thead>\n",
              "\t<tr><th scope=col>year</th><th scope=col>month</th><th scope=col>day</th><th scope=col>dep_time</th><th scope=col>sched_dep_time</th><th scope=col>dep_delay</th><th scope=col>arr_time</th><th scope=col>sched_arr_time</th><th scope=col>arr_delay</th><th scope=col>carrier</th><th scope=col>flight</th><th scope=col>tailnum</th><th scope=col>origin</th><th scope=col>dest</th><th scope=col>air_time</th><th scope=col>distance</th><th scope=col>hour</th><th scope=col>minute</th><th scope=col>time_hour</th></tr>\n",
              "\t<tr><th scope=col>&lt;int&gt;</th><th scope=col>&lt;int&gt;</th><th scope=col>&lt;int&gt;</th><th scope=col>&lt;int&gt;</th><th scope=col>&lt;int&gt;</th><th scope=col>&lt;dbl&gt;</th><th scope=col>&lt;int&gt;</th><th scope=col>&lt;int&gt;</th><th scope=col>&lt;dbl&gt;</th><th scope=col>&lt;chr&gt;</th><th scope=col>&lt;int&gt;</th><th scope=col>&lt;chr&gt;</th><th scope=col>&lt;chr&gt;</th><th scope=col>&lt;chr&gt;</th><th scope=col>&lt;dbl&gt;</th><th scope=col>&lt;dbl&gt;</th><th scope=col>&lt;dbl&gt;</th><th scope=col>&lt;dbl&gt;</th><th scope=col>&lt;dttm&gt;</th></tr>\n",
              "</thead>\n",
              "<tbody>\n",
              "\t<tr><td>2013</td><td>1</td><td>1</td><td>554</td><td>600</td><td>-6</td><td>812</td><td>837</td><td>-25</td><td>DL</td><td> 461</td><td>N668DN</td><td>LGA</td><td>ATL</td><td>116</td><td>762</td><td>6</td><td> 0</td><td>2013-01-01 06:00:00</td></tr>\n",
              "\t<tr><td>2013</td><td>1</td><td>1</td><td>600</td><td>600</td><td> 0</td><td>837</td><td>825</td><td> 12</td><td>MQ</td><td>4650</td><td>N542MQ</td><td>LGA</td><td>ATL</td><td>134</td><td>762</td><td>6</td><td> 0</td><td>2013-01-01 06:00:00</td></tr>\n",
              "\t<tr><td>2013</td><td>1</td><td>1</td><td>606</td><td>610</td><td>-4</td><td>837</td><td>845</td><td> -8</td><td>DL</td><td>1743</td><td>N3739P</td><td>JFK</td><td>ATL</td><td>128</td><td>760</td><td>6</td><td>10</td><td>2013-01-01 06:00:00</td></tr>\n",
              "\t<tr><td>2013</td><td>1</td><td>1</td><td>615</td><td>615</td><td> 0</td><td>833</td><td>842</td><td> -9</td><td>DL</td><td> 575</td><td>N326NB</td><td>EWR</td><td>ATL</td><td>120</td><td>746</td><td>6</td><td>15</td><td>2013-01-01 06:00:00</td></tr>\n",
              "\t<tr><td>2013</td><td>1</td><td>1</td><td>658</td><td>700</td><td>-2</td><td>944</td><td>939</td><td>  5</td><td>DL</td><td>1547</td><td>N6703D</td><td>LGA</td><td>ATL</td><td>126</td><td>762</td><td>7</td><td> 0</td><td>2013-01-01 07:00:00</td></tr>\n",
              "</tbody>\n",
              "</table>\n"
            ]
          },
          "metadata": {
            "tags": []
          }
        }
      ]
    },
    {
      "cell_type": "code",
      "metadata": {
        "colab": {
          "base_uri": "https://localhost:8080/",
          "height": 438
        },
        "id": "KMh1PkRjVgu0",
        "outputId": "364d263f-7a88-4bb8-da1c-d14148fabd4a"
      },
      "source": [
        "# 1월 1일이면서 origin이 LGA 혹은 EWR인 데이터 필터링하기\n",
        "\n",
        "flights %>% filter(month == 1 & day == 1 & origin %in% c('LGA','EWR')) %>% head(5) # 조건이 많은 경우 조건식이 복잡해지기 때문에 %>%를 이용하게 되면 조건만 filter() 안에 들어가게 할 수 있다."
      ],
      "execution_count": 41,
      "outputs": [
        {
          "output_type": "display_data",
          "data": {
            "text/plain": [
              "  year month day dep_time sched_dep_time dep_delay arr_time sched_arr_time\n",
              "1 2013 1     1   517      515             2        830      819           \n",
              "2 2013 1     1   533      529             4        850      830           \n",
              "3 2013 1     1   554      600            -6        812      837           \n",
              "4 2013 1     1   554      558            -4        740      728           \n",
              "5 2013 1     1   555      600            -5        913      854           \n",
              "  arr_delay carrier flight tailnum origin dest air_time distance hour minute\n",
              "1  11       UA      1545   N14228  EWR    IAH  227      1400     5    15    \n",
              "2  20       UA      1714   N24211  LGA    IAH  227      1416     5    29    \n",
              "3 -25       DL       461   N668DN  LGA    ATL  116       762     6     0    \n",
              "4  12       UA      1696   N39463  EWR    ORD  150       719     5    58    \n",
              "5  19       B6       507   N516JB  EWR    FLL  158      1065     6     0    \n",
              "  time_hour          \n",
              "1 2013-01-01 05:00:00\n",
              "2 2013-01-01 05:00:00\n",
              "3 2013-01-01 06:00:00\n",
              "4 2013-01-01 05:00:00\n",
              "5 2013-01-01 06:00:00"
            ],
            "text/latex": "A tibble: 5 × 19\n\\begin{tabular}{lllllllllllllllllll}\n year & month & day & dep\\_time & sched\\_dep\\_time & dep\\_delay & arr\\_time & sched\\_arr\\_time & arr\\_delay & carrier & flight & tailnum & origin & dest & air\\_time & distance & hour & minute & time\\_hour\\\\\n <int> & <int> & <int> & <int> & <int> & <dbl> & <int> & <int> & <dbl> & <chr> & <int> & <chr> & <chr> & <chr> & <dbl> & <dbl> & <dbl> & <dbl> & <dttm>\\\\\n\\hline\n\t 2013 & 1 & 1 & 517 & 515 &  2 & 830 & 819 &  11 & UA & 1545 & N14228 & EWR & IAH & 227 & 1400 & 5 & 15 & 2013-01-01 05:00:00\\\\\n\t 2013 & 1 & 1 & 533 & 529 &  4 & 850 & 830 &  20 & UA & 1714 & N24211 & LGA & IAH & 227 & 1416 & 5 & 29 & 2013-01-01 05:00:00\\\\\n\t 2013 & 1 & 1 & 554 & 600 & -6 & 812 & 837 & -25 & DL &  461 & N668DN & LGA & ATL & 116 &  762 & 6 &  0 & 2013-01-01 06:00:00\\\\\n\t 2013 & 1 & 1 & 554 & 558 & -4 & 740 & 728 &  12 & UA & 1696 & N39463 & EWR & ORD & 150 &  719 & 5 & 58 & 2013-01-01 05:00:00\\\\\n\t 2013 & 1 & 1 & 555 & 600 & -5 & 913 & 854 &  19 & B6 &  507 & N516JB & EWR & FLL & 158 & 1065 & 6 &  0 & 2013-01-01 06:00:00\\\\\n\\end{tabular}\n",
            "text/markdown": "\nA tibble: 5 × 19\n\n| year &lt;int&gt; | month &lt;int&gt; | day &lt;int&gt; | dep_time &lt;int&gt; | sched_dep_time &lt;int&gt; | dep_delay &lt;dbl&gt; | arr_time &lt;int&gt; | sched_arr_time &lt;int&gt; | arr_delay &lt;dbl&gt; | carrier &lt;chr&gt; | flight &lt;int&gt; | tailnum &lt;chr&gt; | origin &lt;chr&gt; | dest &lt;chr&gt; | air_time &lt;dbl&gt; | distance &lt;dbl&gt; | hour &lt;dbl&gt; | minute &lt;dbl&gt; | time_hour &lt;dttm&gt; |\n|---|---|---|---|---|---|---|---|---|---|---|---|---|---|---|---|---|---|---|\n| 2013 | 1 | 1 | 517 | 515 |  2 | 830 | 819 |  11 | UA | 1545 | N14228 | EWR | IAH | 227 | 1400 | 5 | 15 | 2013-01-01 05:00:00 |\n| 2013 | 1 | 1 | 533 | 529 |  4 | 850 | 830 |  20 | UA | 1714 | N24211 | LGA | IAH | 227 | 1416 | 5 | 29 | 2013-01-01 05:00:00 |\n| 2013 | 1 | 1 | 554 | 600 | -6 | 812 | 837 | -25 | DL |  461 | N668DN | LGA | ATL | 116 |  762 | 6 |  0 | 2013-01-01 06:00:00 |\n| 2013 | 1 | 1 | 554 | 558 | -4 | 740 | 728 |  12 | UA | 1696 | N39463 | EWR | ORD | 150 |  719 | 5 | 58 | 2013-01-01 05:00:00 |\n| 2013 | 1 | 1 | 555 | 600 | -5 | 913 | 854 |  19 | B6 |  507 | N516JB | EWR | FLL | 158 | 1065 | 6 |  0 | 2013-01-01 06:00:00 |\n\n",
            "text/html": [
              "<table class=\"dataframe\">\n",
              "<caption>A tibble: 5 × 19</caption>\n",
              "<thead>\n",
              "\t<tr><th scope=col>year</th><th scope=col>month</th><th scope=col>day</th><th scope=col>dep_time</th><th scope=col>sched_dep_time</th><th scope=col>dep_delay</th><th scope=col>arr_time</th><th scope=col>sched_arr_time</th><th scope=col>arr_delay</th><th scope=col>carrier</th><th scope=col>flight</th><th scope=col>tailnum</th><th scope=col>origin</th><th scope=col>dest</th><th scope=col>air_time</th><th scope=col>distance</th><th scope=col>hour</th><th scope=col>minute</th><th scope=col>time_hour</th></tr>\n",
              "\t<tr><th scope=col>&lt;int&gt;</th><th scope=col>&lt;int&gt;</th><th scope=col>&lt;int&gt;</th><th scope=col>&lt;int&gt;</th><th scope=col>&lt;int&gt;</th><th scope=col>&lt;dbl&gt;</th><th scope=col>&lt;int&gt;</th><th scope=col>&lt;int&gt;</th><th scope=col>&lt;dbl&gt;</th><th scope=col>&lt;chr&gt;</th><th scope=col>&lt;int&gt;</th><th scope=col>&lt;chr&gt;</th><th scope=col>&lt;chr&gt;</th><th scope=col>&lt;chr&gt;</th><th scope=col>&lt;dbl&gt;</th><th scope=col>&lt;dbl&gt;</th><th scope=col>&lt;dbl&gt;</th><th scope=col>&lt;dbl&gt;</th><th scope=col>&lt;dttm&gt;</th></tr>\n",
              "</thead>\n",
              "<tbody>\n",
              "\t<tr><td>2013</td><td>1</td><td>1</td><td>517</td><td>515</td><td> 2</td><td>830</td><td>819</td><td> 11</td><td>UA</td><td>1545</td><td>N14228</td><td>EWR</td><td>IAH</td><td>227</td><td>1400</td><td>5</td><td>15</td><td>2013-01-01 05:00:00</td></tr>\n",
              "\t<tr><td>2013</td><td>1</td><td>1</td><td>533</td><td>529</td><td> 4</td><td>850</td><td>830</td><td> 20</td><td>UA</td><td>1714</td><td>N24211</td><td>LGA</td><td>IAH</td><td>227</td><td>1416</td><td>5</td><td>29</td><td>2013-01-01 05:00:00</td></tr>\n",
              "\t<tr><td>2013</td><td>1</td><td>1</td><td>554</td><td>600</td><td>-6</td><td>812</td><td>837</td><td>-25</td><td>DL</td><td> 461</td><td>N668DN</td><td>LGA</td><td>ATL</td><td>116</td><td> 762</td><td>6</td><td> 0</td><td>2013-01-01 06:00:00</td></tr>\n",
              "\t<tr><td>2013</td><td>1</td><td>1</td><td>554</td><td>558</td><td>-4</td><td>740</td><td>728</td><td> 12</td><td>UA</td><td>1696</td><td>N39463</td><td>EWR</td><td>ORD</td><td>150</td><td> 719</td><td>5</td><td>58</td><td>2013-01-01 05:00:00</td></tr>\n",
              "\t<tr><td>2013</td><td>1</td><td>1</td><td>555</td><td>600</td><td>-5</td><td>913</td><td>854</td><td> 19</td><td>B6</td><td> 507</td><td>N516JB</td><td>EWR</td><td>FLL</td><td>158</td><td>1065</td><td>6</td><td> 0</td><td>2013-01-01 06:00:00</td></tr>\n",
              "</tbody>\n",
              "</table>\n"
            ]
          },
          "metadata": {
            "tags": []
          }
        }
      ]
    },
    {
      "cell_type": "code",
      "metadata": {
        "colab": {
          "base_uri": "https://localhost:8080/",
          "height": 309
        },
        "id": "d1E9q2PBWdoK",
        "outputId": "9f00c9ba-a177-45a1-e276-51372d1456e4"
      },
      "source": [
        "# 1월 1일이거나 1월 2일이면서 hour가 6시간 미만인 데이터 필터링하기\n",
        "\n",
        "flights %>% filter(month == 1 & (day == 1 | day == 2) & hour<6) %>% head(3)"
      ],
      "execution_count": 42,
      "outputs": [
        {
          "output_type": "display_data",
          "data": {
            "text/plain": [
              "  year month day dep_time sched_dep_time dep_delay arr_time sched_arr_time\n",
              "1 2013 1     1   517      515            2         830      819           \n",
              "2 2013 1     1   533      529            4         850      830           \n",
              "3 2013 1     1   542      540            2         923      850           \n",
              "  arr_delay carrier flight tailnum origin dest air_time distance hour minute\n",
              "1 11        UA      1545   N14228  EWR    IAH  227      1400     5    15    \n",
              "2 20        UA      1714   N24211  LGA    IAH  227      1416     5    29    \n",
              "3 33        AA      1141   N619AA  JFK    MIA  160      1089     5    40    \n",
              "  time_hour          \n",
              "1 2013-01-01 05:00:00\n",
              "2 2013-01-01 05:00:00\n",
              "3 2013-01-01 05:00:00"
            ],
            "text/latex": "A tibble: 3 × 19\n\\begin{tabular}{lllllllllllllllllll}\n year & month & day & dep\\_time & sched\\_dep\\_time & dep\\_delay & arr\\_time & sched\\_arr\\_time & arr\\_delay & carrier & flight & tailnum & origin & dest & air\\_time & distance & hour & minute & time\\_hour\\\\\n <int> & <int> & <int> & <int> & <int> & <dbl> & <int> & <int> & <dbl> & <chr> & <int> & <chr> & <chr> & <chr> & <dbl> & <dbl> & <dbl> & <dbl> & <dttm>\\\\\n\\hline\n\t 2013 & 1 & 1 & 517 & 515 & 2 & 830 & 819 & 11 & UA & 1545 & N14228 & EWR & IAH & 227 & 1400 & 5 & 15 & 2013-01-01 05:00:00\\\\\n\t 2013 & 1 & 1 & 533 & 529 & 4 & 850 & 830 & 20 & UA & 1714 & N24211 & LGA & IAH & 227 & 1416 & 5 & 29 & 2013-01-01 05:00:00\\\\\n\t 2013 & 1 & 1 & 542 & 540 & 2 & 923 & 850 & 33 & AA & 1141 & N619AA & JFK & MIA & 160 & 1089 & 5 & 40 & 2013-01-01 05:00:00\\\\\n\\end{tabular}\n",
            "text/markdown": "\nA tibble: 3 × 19\n\n| year &lt;int&gt; | month &lt;int&gt; | day &lt;int&gt; | dep_time &lt;int&gt; | sched_dep_time &lt;int&gt; | dep_delay &lt;dbl&gt; | arr_time &lt;int&gt; | sched_arr_time &lt;int&gt; | arr_delay &lt;dbl&gt; | carrier &lt;chr&gt; | flight &lt;int&gt; | tailnum &lt;chr&gt; | origin &lt;chr&gt; | dest &lt;chr&gt; | air_time &lt;dbl&gt; | distance &lt;dbl&gt; | hour &lt;dbl&gt; | minute &lt;dbl&gt; | time_hour &lt;dttm&gt; |\n|---|---|---|---|---|---|---|---|---|---|---|---|---|---|---|---|---|---|---|\n| 2013 | 1 | 1 | 517 | 515 | 2 | 830 | 819 | 11 | UA | 1545 | N14228 | EWR | IAH | 227 | 1400 | 5 | 15 | 2013-01-01 05:00:00 |\n| 2013 | 1 | 1 | 533 | 529 | 4 | 850 | 830 | 20 | UA | 1714 | N24211 | LGA | IAH | 227 | 1416 | 5 | 29 | 2013-01-01 05:00:00 |\n| 2013 | 1 | 1 | 542 | 540 | 2 | 923 | 850 | 33 | AA | 1141 | N619AA | JFK | MIA | 160 | 1089 | 5 | 40 | 2013-01-01 05:00:00 |\n\n",
            "text/html": [
              "<table class=\"dataframe\">\n",
              "<caption>A tibble: 3 × 19</caption>\n",
              "<thead>\n",
              "\t<tr><th scope=col>year</th><th scope=col>month</th><th scope=col>day</th><th scope=col>dep_time</th><th scope=col>sched_dep_time</th><th scope=col>dep_delay</th><th scope=col>arr_time</th><th scope=col>sched_arr_time</th><th scope=col>arr_delay</th><th scope=col>carrier</th><th scope=col>flight</th><th scope=col>tailnum</th><th scope=col>origin</th><th scope=col>dest</th><th scope=col>air_time</th><th scope=col>distance</th><th scope=col>hour</th><th scope=col>minute</th><th scope=col>time_hour</th></tr>\n",
              "\t<tr><th scope=col>&lt;int&gt;</th><th scope=col>&lt;int&gt;</th><th scope=col>&lt;int&gt;</th><th scope=col>&lt;int&gt;</th><th scope=col>&lt;int&gt;</th><th scope=col>&lt;dbl&gt;</th><th scope=col>&lt;int&gt;</th><th scope=col>&lt;int&gt;</th><th scope=col>&lt;dbl&gt;</th><th scope=col>&lt;chr&gt;</th><th scope=col>&lt;int&gt;</th><th scope=col>&lt;chr&gt;</th><th scope=col>&lt;chr&gt;</th><th scope=col>&lt;chr&gt;</th><th scope=col>&lt;dbl&gt;</th><th scope=col>&lt;dbl&gt;</th><th scope=col>&lt;dbl&gt;</th><th scope=col>&lt;dbl&gt;</th><th scope=col>&lt;dttm&gt;</th></tr>\n",
              "</thead>\n",
              "<tbody>\n",
              "\t<tr><td>2013</td><td>1</td><td>1</td><td>517</td><td>515</td><td>2</td><td>830</td><td>819</td><td>11</td><td>UA</td><td>1545</td><td>N14228</td><td>EWR</td><td>IAH</td><td>227</td><td>1400</td><td>5</td><td>15</td><td>2013-01-01 05:00:00</td></tr>\n",
              "\t<tr><td>2013</td><td>1</td><td>1</td><td>533</td><td>529</td><td>4</td><td>850</td><td>830</td><td>20</td><td>UA</td><td>1714</td><td>N24211</td><td>LGA</td><td>IAH</td><td>227</td><td>1416</td><td>5</td><td>29</td><td>2013-01-01 05:00:00</td></tr>\n",
              "\t<tr><td>2013</td><td>1</td><td>1</td><td>542</td><td>540</td><td>2</td><td>923</td><td>850</td><td>33</td><td>AA</td><td>1141</td><td>N619AA</td><td>JFK</td><td>MIA</td><td>160</td><td>1089</td><td>5</td><td>40</td><td>2013-01-01 05:00:00</td></tr>\n",
              "</tbody>\n",
              "</table>\n"
            ]
          },
          "metadata": {
            "tags": []
          }
        }
      ]
    },
    {
      "cell_type": "code",
      "metadata": {
        "colab": {
          "base_uri": "https://localhost:8080/",
          "height": 309
        },
        "id": "-PPc1KZcX1DS",
        "outputId": "5f42cf2f-559e-446b-f390-fa89a15b0259"
      },
      "source": [
        "flights %>% filter(month == 1 & (day == 1 | day == 2) & hour<6) %>% tail(3) # 뒤에서부터 3개의 행을 확인해보았더니 1월 2일인 경우도 잘 포함되어 있음을 알 수 있었다. "
      ],
      "execution_count": 43,
      "outputs": [
        {
          "output_type": "display_data",
          "data": {
            "text/plain": [
              "  year month day dep_time sched_dep_time dep_delay arr_time sched_arr_time\n",
              "1 2013 1     2   539      545             -6        959     1022          \n",
              "2 2013 1     2   603      559              4        912      916          \n",
              "3 2013 1     2   833      558            155       1018      727          \n",
              "  arr_delay carrier flight tailnum origin dest air_time distance hour minute\n",
              "1 -23       B6       725   N624JB  JFK    BQN  184      1576     5    45    \n",
              "2  -4       UA      1676   N17229  EWR    LAX  341      2454     5    59    \n",
              "3 171       UA       651   N448UA  EWR    ORD  129       719     5    58    \n",
              "  time_hour          \n",
              "1 2013-01-02 05:00:00\n",
              "2 2013-01-02 05:00:00\n",
              "3 2013-01-02 05:00:00"
            ],
            "text/latex": "A tibble: 3 × 19\n\\begin{tabular}{lllllllllllllllllll}\n year & month & day & dep\\_time & sched\\_dep\\_time & dep\\_delay & arr\\_time & sched\\_arr\\_time & arr\\_delay & carrier & flight & tailnum & origin & dest & air\\_time & distance & hour & minute & time\\_hour\\\\\n <int> & <int> & <int> & <int> & <int> & <dbl> & <int> & <int> & <dbl> & <chr> & <int> & <chr> & <chr> & <chr> & <dbl> & <dbl> & <dbl> & <dbl> & <dttm>\\\\\n\\hline\n\t 2013 & 1 & 2 & 539 & 545 &  -6 &  959 & 1022 & -23 & B6 &  725 & N624JB & JFK & BQN & 184 & 1576 & 5 & 45 & 2013-01-02 05:00:00\\\\\n\t 2013 & 1 & 2 & 603 & 559 &   4 &  912 &  916 &  -4 & UA & 1676 & N17229 & EWR & LAX & 341 & 2454 & 5 & 59 & 2013-01-02 05:00:00\\\\\n\t 2013 & 1 & 2 & 833 & 558 & 155 & 1018 &  727 & 171 & UA &  651 & N448UA & EWR & ORD & 129 &  719 & 5 & 58 & 2013-01-02 05:00:00\\\\\n\\end{tabular}\n",
            "text/markdown": "\nA tibble: 3 × 19\n\n| year &lt;int&gt; | month &lt;int&gt; | day &lt;int&gt; | dep_time &lt;int&gt; | sched_dep_time &lt;int&gt; | dep_delay &lt;dbl&gt; | arr_time &lt;int&gt; | sched_arr_time &lt;int&gt; | arr_delay &lt;dbl&gt; | carrier &lt;chr&gt; | flight &lt;int&gt; | tailnum &lt;chr&gt; | origin &lt;chr&gt; | dest &lt;chr&gt; | air_time &lt;dbl&gt; | distance &lt;dbl&gt; | hour &lt;dbl&gt; | minute &lt;dbl&gt; | time_hour &lt;dttm&gt; |\n|---|---|---|---|---|---|---|---|---|---|---|---|---|---|---|---|---|---|---|\n| 2013 | 1 | 2 | 539 | 545 |  -6 |  959 | 1022 | -23 | B6 |  725 | N624JB | JFK | BQN | 184 | 1576 | 5 | 45 | 2013-01-02 05:00:00 |\n| 2013 | 1 | 2 | 603 | 559 |   4 |  912 |  916 |  -4 | UA | 1676 | N17229 | EWR | LAX | 341 | 2454 | 5 | 59 | 2013-01-02 05:00:00 |\n| 2013 | 1 | 2 | 833 | 558 | 155 | 1018 |  727 | 171 | UA |  651 | N448UA | EWR | ORD | 129 |  719 | 5 | 58 | 2013-01-02 05:00:00 |\n\n",
            "text/html": [
              "<table class=\"dataframe\">\n",
              "<caption>A tibble: 3 × 19</caption>\n",
              "<thead>\n",
              "\t<tr><th scope=col>year</th><th scope=col>month</th><th scope=col>day</th><th scope=col>dep_time</th><th scope=col>sched_dep_time</th><th scope=col>dep_delay</th><th scope=col>arr_time</th><th scope=col>sched_arr_time</th><th scope=col>arr_delay</th><th scope=col>carrier</th><th scope=col>flight</th><th scope=col>tailnum</th><th scope=col>origin</th><th scope=col>dest</th><th scope=col>air_time</th><th scope=col>distance</th><th scope=col>hour</th><th scope=col>minute</th><th scope=col>time_hour</th></tr>\n",
              "\t<tr><th scope=col>&lt;int&gt;</th><th scope=col>&lt;int&gt;</th><th scope=col>&lt;int&gt;</th><th scope=col>&lt;int&gt;</th><th scope=col>&lt;int&gt;</th><th scope=col>&lt;dbl&gt;</th><th scope=col>&lt;int&gt;</th><th scope=col>&lt;int&gt;</th><th scope=col>&lt;dbl&gt;</th><th scope=col>&lt;chr&gt;</th><th scope=col>&lt;int&gt;</th><th scope=col>&lt;chr&gt;</th><th scope=col>&lt;chr&gt;</th><th scope=col>&lt;chr&gt;</th><th scope=col>&lt;dbl&gt;</th><th scope=col>&lt;dbl&gt;</th><th scope=col>&lt;dbl&gt;</th><th scope=col>&lt;dbl&gt;</th><th scope=col>&lt;dttm&gt;</th></tr>\n",
              "</thead>\n",
              "<tbody>\n",
              "\t<tr><td>2013</td><td>1</td><td>2</td><td>539</td><td>545</td><td> -6</td><td> 959</td><td>1022</td><td>-23</td><td>B6</td><td> 725</td><td>N624JB</td><td>JFK</td><td>BQN</td><td>184</td><td>1576</td><td>5</td><td>45</td><td>2013-01-02 05:00:00</td></tr>\n",
              "\t<tr><td>2013</td><td>1</td><td>2</td><td>603</td><td>559</td><td>  4</td><td> 912</td><td> 916</td><td> -4</td><td>UA</td><td>1676</td><td>N17229</td><td>EWR</td><td>LAX</td><td>341</td><td>2454</td><td>5</td><td>59</td><td>2013-01-02 05:00:00</td></tr>\n",
              "\t<tr><td>2013</td><td>1</td><td>2</td><td>833</td><td>558</td><td>155</td><td>1018</td><td> 727</td><td>171</td><td>UA</td><td> 651</td><td>N448UA</td><td>EWR</td><td>ORD</td><td>129</td><td> 719</td><td>5</td><td>58</td><td>2013-01-02 05:00:00</td></tr>\n",
              "</tbody>\n",
              "</table>\n"
            ]
          },
          "metadata": {
            "tags": []
          }
        }
      ]
    },
    {
      "cell_type": "markdown",
      "metadata": {
        "id": "m4YphQmnYaxJ"
      },
      "source": [
        "### Select columns that match the condition - select()"
      ]
    },
    {
      "cell_type": "code",
      "metadata": {
        "colab": {
          "base_uri": "https://localhost:8080/",
          "height": 249
        },
        "id": "nwZo5ctfYEjM",
        "outputId": "d6130746-5c43-4349-ce1a-922952b1508e"
      },
      "source": [
        "# dep_time, sched_dep_time 열 선택\n",
        "select(flights, dep_time, sched_dep_time) %>% head(5)"
      ],
      "execution_count": 44,
      "outputs": [
        {
          "output_type": "display_data",
          "data": {
            "text/plain": [
              "  dep_time sched_dep_time\n",
              "1 517      515           \n",
              "2 533      529           \n",
              "3 542      540           \n",
              "4 544      545           \n",
              "5 554      600           "
            ],
            "text/latex": "A tibble: 5 × 2\n\\begin{tabular}{ll}\n dep\\_time & sched\\_dep\\_time\\\\\n <int> & <int>\\\\\n\\hline\n\t 517 & 515\\\\\n\t 533 & 529\\\\\n\t 542 & 540\\\\\n\t 544 & 545\\\\\n\t 554 & 600\\\\\n\\end{tabular}\n",
            "text/markdown": "\nA tibble: 5 × 2\n\n| dep_time &lt;int&gt; | sched_dep_time &lt;int&gt; |\n|---|---|\n| 517 | 515 |\n| 533 | 529 |\n| 542 | 540 |\n| 544 | 545 |\n| 554 | 600 |\n\n",
            "text/html": [
              "<table class=\"dataframe\">\n",
              "<caption>A tibble: 5 × 2</caption>\n",
              "<thead>\n",
              "\t<tr><th scope=col>dep_time</th><th scope=col>sched_dep_time</th></tr>\n",
              "\t<tr><th scope=col>&lt;int&gt;</th><th scope=col>&lt;int&gt;</th></tr>\n",
              "</thead>\n",
              "<tbody>\n",
              "\t<tr><td>517</td><td>515</td></tr>\n",
              "\t<tr><td>533</td><td>529</td></tr>\n",
              "\t<tr><td>542</td><td>540</td></tr>\n",
              "\t<tr><td>544</td><td>545</td></tr>\n",
              "\t<tr><td>554</td><td>600</td></tr>\n",
              "</tbody>\n",
              "</table>\n"
            ]
          },
          "metadata": {
            "tags": []
          }
        }
      ]
    },
    {
      "cell_type": "code",
      "metadata": {
        "colab": {
          "base_uri": "https://localhost:8080/",
          "height": 249
        },
        "id": "-GEgneuOcIHh",
        "outputId": "6677b1e2-447c-4a0d-efa0-16a6d5c68ea2"
      },
      "source": [
        "# year~day 열 선택\n",
        "select(flights, (year:day)) %>% head(5)"
      ],
      "execution_count": 45,
      "outputs": [
        {
          "output_type": "display_data",
          "data": {
            "text/plain": [
              "  year month day\n",
              "1 2013 1     1  \n",
              "2 2013 1     1  \n",
              "3 2013 1     1  \n",
              "4 2013 1     1  \n",
              "5 2013 1     1  "
            ],
            "text/latex": "A tibble: 5 × 3\n\\begin{tabular}{lll}\n year & month & day\\\\\n <int> & <int> & <int>\\\\\n\\hline\n\t 2013 & 1 & 1\\\\\n\t 2013 & 1 & 1\\\\\n\t 2013 & 1 & 1\\\\\n\t 2013 & 1 & 1\\\\\n\t 2013 & 1 & 1\\\\\n\\end{tabular}\n",
            "text/markdown": "\nA tibble: 5 × 3\n\n| year &lt;int&gt; | month &lt;int&gt; | day &lt;int&gt; |\n|---|---|---|\n| 2013 | 1 | 1 |\n| 2013 | 1 | 1 |\n| 2013 | 1 | 1 |\n| 2013 | 1 | 1 |\n| 2013 | 1 | 1 |\n\n",
            "text/html": [
              "<table class=\"dataframe\">\n",
              "<caption>A tibble: 5 × 3</caption>\n",
              "<thead>\n",
              "\t<tr><th scope=col>year</th><th scope=col>month</th><th scope=col>day</th></tr>\n",
              "\t<tr><th scope=col>&lt;int&gt;</th><th scope=col>&lt;int&gt;</th><th scope=col>&lt;int&gt;</th></tr>\n",
              "</thead>\n",
              "<tbody>\n",
              "\t<tr><td>2013</td><td>1</td><td>1</td></tr>\n",
              "\t<tr><td>2013</td><td>1</td><td>1</td></tr>\n",
              "\t<tr><td>2013</td><td>1</td><td>1</td></tr>\n",
              "\t<tr><td>2013</td><td>1</td><td>1</td></tr>\n",
              "\t<tr><td>2013</td><td>1</td><td>1</td></tr>\n",
              "</tbody>\n",
              "</table>\n"
            ]
          },
          "metadata": {
            "tags": []
          }
        }
      ]
    },
    {
      "cell_type": "code",
      "metadata": {
        "colab": {
          "base_uri": "https://localhost:8080/",
          "height": 249
        },
        "id": "TqVbY87rY1TB",
        "outputId": "0080bf57-c0d4-4ee1-c4e0-7e44385f606f"
      },
      "source": [
        "# dep_time ~ arr_delay 열을 제외하고 선택\n",
        "select(flights, -(dep_time:arr_delay)) %>% head(5)"
      ],
      "execution_count": 46,
      "outputs": [
        {
          "output_type": "display_data",
          "data": {
            "text/plain": [
              "  year month day carrier flight tailnum origin dest air_time distance hour\n",
              "1 2013 1     1   UA      1545   N14228  EWR    IAH  227      1400     5   \n",
              "2 2013 1     1   UA      1714   N24211  LGA    IAH  227      1416     5   \n",
              "3 2013 1     1   AA      1141   N619AA  JFK    MIA  160      1089     5   \n",
              "4 2013 1     1   B6       725   N804JB  JFK    BQN  183      1576     5   \n",
              "5 2013 1     1   DL       461   N668DN  LGA    ATL  116       762     6   \n",
              "  minute time_hour          \n",
              "1 15     2013-01-01 05:00:00\n",
              "2 29     2013-01-01 05:00:00\n",
              "3 40     2013-01-01 05:00:00\n",
              "4 45     2013-01-01 05:00:00\n",
              "5  0     2013-01-01 06:00:00"
            ],
            "text/latex": "A tibble: 5 × 13\n\\begin{tabular}{lllllllllllll}\n year & month & day & carrier & flight & tailnum & origin & dest & air\\_time & distance & hour & minute & time\\_hour\\\\\n <int> & <int> & <int> & <chr> & <int> & <chr> & <chr> & <chr> & <dbl> & <dbl> & <dbl> & <dbl> & <dttm>\\\\\n\\hline\n\t 2013 & 1 & 1 & UA & 1545 & N14228 & EWR & IAH & 227 & 1400 & 5 & 15 & 2013-01-01 05:00:00\\\\\n\t 2013 & 1 & 1 & UA & 1714 & N24211 & LGA & IAH & 227 & 1416 & 5 & 29 & 2013-01-01 05:00:00\\\\\n\t 2013 & 1 & 1 & AA & 1141 & N619AA & JFK & MIA & 160 & 1089 & 5 & 40 & 2013-01-01 05:00:00\\\\\n\t 2013 & 1 & 1 & B6 &  725 & N804JB & JFK & BQN & 183 & 1576 & 5 & 45 & 2013-01-01 05:00:00\\\\\n\t 2013 & 1 & 1 & DL &  461 & N668DN & LGA & ATL & 116 &  762 & 6 &  0 & 2013-01-01 06:00:00\\\\\n\\end{tabular}\n",
            "text/markdown": "\nA tibble: 5 × 13\n\n| year &lt;int&gt; | month &lt;int&gt; | day &lt;int&gt; | carrier &lt;chr&gt; | flight &lt;int&gt; | tailnum &lt;chr&gt; | origin &lt;chr&gt; | dest &lt;chr&gt; | air_time &lt;dbl&gt; | distance &lt;dbl&gt; | hour &lt;dbl&gt; | minute &lt;dbl&gt; | time_hour &lt;dttm&gt; |\n|---|---|---|---|---|---|---|---|---|---|---|---|---|\n| 2013 | 1 | 1 | UA | 1545 | N14228 | EWR | IAH | 227 | 1400 | 5 | 15 | 2013-01-01 05:00:00 |\n| 2013 | 1 | 1 | UA | 1714 | N24211 | LGA | IAH | 227 | 1416 | 5 | 29 | 2013-01-01 05:00:00 |\n| 2013 | 1 | 1 | AA | 1141 | N619AA | JFK | MIA | 160 | 1089 | 5 | 40 | 2013-01-01 05:00:00 |\n| 2013 | 1 | 1 | B6 |  725 | N804JB | JFK | BQN | 183 | 1576 | 5 | 45 | 2013-01-01 05:00:00 |\n| 2013 | 1 | 1 | DL |  461 | N668DN | LGA | ATL | 116 |  762 | 6 |  0 | 2013-01-01 06:00:00 |\n\n",
            "text/html": [
              "<table class=\"dataframe\">\n",
              "<caption>A tibble: 5 × 13</caption>\n",
              "<thead>\n",
              "\t<tr><th scope=col>year</th><th scope=col>month</th><th scope=col>day</th><th scope=col>carrier</th><th scope=col>flight</th><th scope=col>tailnum</th><th scope=col>origin</th><th scope=col>dest</th><th scope=col>air_time</th><th scope=col>distance</th><th scope=col>hour</th><th scope=col>minute</th><th scope=col>time_hour</th></tr>\n",
              "\t<tr><th scope=col>&lt;int&gt;</th><th scope=col>&lt;int&gt;</th><th scope=col>&lt;int&gt;</th><th scope=col>&lt;chr&gt;</th><th scope=col>&lt;int&gt;</th><th scope=col>&lt;chr&gt;</th><th scope=col>&lt;chr&gt;</th><th scope=col>&lt;chr&gt;</th><th scope=col>&lt;dbl&gt;</th><th scope=col>&lt;dbl&gt;</th><th scope=col>&lt;dbl&gt;</th><th scope=col>&lt;dbl&gt;</th><th scope=col>&lt;dttm&gt;</th></tr>\n",
              "</thead>\n",
              "<tbody>\n",
              "\t<tr><td>2013</td><td>1</td><td>1</td><td>UA</td><td>1545</td><td>N14228</td><td>EWR</td><td>IAH</td><td>227</td><td>1400</td><td>5</td><td>15</td><td>2013-01-01 05:00:00</td></tr>\n",
              "\t<tr><td>2013</td><td>1</td><td>1</td><td>UA</td><td>1714</td><td>N24211</td><td>LGA</td><td>IAH</td><td>227</td><td>1416</td><td>5</td><td>29</td><td>2013-01-01 05:00:00</td></tr>\n",
              "\t<tr><td>2013</td><td>1</td><td>1</td><td>AA</td><td>1141</td><td>N619AA</td><td>JFK</td><td>MIA</td><td>160</td><td>1089</td><td>5</td><td>40</td><td>2013-01-01 05:00:00</td></tr>\n",
              "\t<tr><td>2013</td><td>1</td><td>1</td><td>B6</td><td> 725</td><td>N804JB</td><td>JFK</td><td>BQN</td><td>183</td><td>1576</td><td>5</td><td>45</td><td>2013-01-01 05:00:00</td></tr>\n",
              "\t<tr><td>2013</td><td>1</td><td>1</td><td>DL</td><td> 461</td><td>N668DN</td><td>LGA</td><td>ATL</td><td>116</td><td> 762</td><td>6</td><td> 0</td><td>2013-01-01 06:00:00</td></tr>\n",
              "</tbody>\n",
              "</table>\n"
            ]
          },
          "metadata": {
            "tags": []
          }
        }
      ]
    },
    {
      "cell_type": "code",
      "metadata": {
        "colab": {
          "base_uri": "https://localhost:8080/",
          "height": 249
        },
        "id": "9hWX8QDtdNnF",
        "outputId": "5a92ad5e-fceb-4df3-aa53-8fcde6ad8bc8"
      },
      "source": [
        "# year~day 열과 column name이 time으로 끝나는 열 선택\n",
        "flights %>% select(year:day, ends_with(\"time\")) %>% head(5) "
      ],
      "execution_count": 47,
      "outputs": [
        {
          "output_type": "display_data",
          "data": {
            "text/plain": [
              "  year month day dep_time sched_dep_time arr_time sched_arr_time air_time\n",
              "1 2013 1     1   517      515             830      819           227     \n",
              "2 2013 1     1   533      529             850      830           227     \n",
              "3 2013 1     1   542      540             923      850           160     \n",
              "4 2013 1     1   544      545            1004     1022           183     \n",
              "5 2013 1     1   554      600             812      837           116     "
            ],
            "text/latex": "A tibble: 5 × 8\n\\begin{tabular}{llllllll}\n year & month & day & dep\\_time & sched\\_dep\\_time & arr\\_time & sched\\_arr\\_time & air\\_time\\\\\n <int> & <int> & <int> & <int> & <int> & <int> & <int> & <dbl>\\\\\n\\hline\n\t 2013 & 1 & 1 & 517 & 515 &  830 &  819 & 227\\\\\n\t 2013 & 1 & 1 & 533 & 529 &  850 &  830 & 227\\\\\n\t 2013 & 1 & 1 & 542 & 540 &  923 &  850 & 160\\\\\n\t 2013 & 1 & 1 & 544 & 545 & 1004 & 1022 & 183\\\\\n\t 2013 & 1 & 1 & 554 & 600 &  812 &  837 & 116\\\\\n\\end{tabular}\n",
            "text/markdown": "\nA tibble: 5 × 8\n\n| year &lt;int&gt; | month &lt;int&gt; | day &lt;int&gt; | dep_time &lt;int&gt; | sched_dep_time &lt;int&gt; | arr_time &lt;int&gt; | sched_arr_time &lt;int&gt; | air_time &lt;dbl&gt; |\n|---|---|---|---|---|---|---|---|\n| 2013 | 1 | 1 | 517 | 515 |  830 |  819 | 227 |\n| 2013 | 1 | 1 | 533 | 529 |  850 |  830 | 227 |\n| 2013 | 1 | 1 | 542 | 540 |  923 |  850 | 160 |\n| 2013 | 1 | 1 | 544 | 545 | 1004 | 1022 | 183 |\n| 2013 | 1 | 1 | 554 | 600 |  812 |  837 | 116 |\n\n",
            "text/html": [
              "<table class=\"dataframe\">\n",
              "<caption>A tibble: 5 × 8</caption>\n",
              "<thead>\n",
              "\t<tr><th scope=col>year</th><th scope=col>month</th><th scope=col>day</th><th scope=col>dep_time</th><th scope=col>sched_dep_time</th><th scope=col>arr_time</th><th scope=col>sched_arr_time</th><th scope=col>air_time</th></tr>\n",
              "\t<tr><th scope=col>&lt;int&gt;</th><th scope=col>&lt;int&gt;</th><th scope=col>&lt;int&gt;</th><th scope=col>&lt;int&gt;</th><th scope=col>&lt;int&gt;</th><th scope=col>&lt;int&gt;</th><th scope=col>&lt;int&gt;</th><th scope=col>&lt;dbl&gt;</th></tr>\n",
              "</thead>\n",
              "<tbody>\n",
              "\t<tr><td>2013</td><td>1</td><td>1</td><td>517</td><td>515</td><td> 830</td><td> 819</td><td>227</td></tr>\n",
              "\t<tr><td>2013</td><td>1</td><td>1</td><td>533</td><td>529</td><td> 850</td><td> 830</td><td>227</td></tr>\n",
              "\t<tr><td>2013</td><td>1</td><td>1</td><td>542</td><td>540</td><td> 923</td><td> 850</td><td>160</td></tr>\n",
              "\t<tr><td>2013</td><td>1</td><td>1</td><td>544</td><td>545</td><td>1004</td><td>1022</td><td>183</td></tr>\n",
              "\t<tr><td>2013</td><td>1</td><td>1</td><td>554</td><td>600</td><td> 812</td><td> 837</td><td>116</td></tr>\n",
              "</tbody>\n",
              "</table>\n"
            ]
          },
          "metadata": {
            "tags": []
          }
        }
      ]
    },
    {
      "cell_type": "code",
      "metadata": {
        "colab": {
          "base_uri": "https://localhost:8080/",
          "height": 249
        },
        "id": "_ZKO8HF7ZviR",
        "outputId": "8c210f7c-413c-4c35-e3e1-3a978252e4c6"
      },
      "source": [
        "# fillter()과 select()를 동시에 이용하여 행과 열에 대한 조건에 맞는 데이터 선택하기\n",
        "filter(select(flights, year:day), month==1) %>% head(5) "
      ],
      "execution_count": 48,
      "outputs": [
        {
          "output_type": "display_data",
          "data": {
            "text/plain": [
              "  year month day\n",
              "1 2013 1     1  \n",
              "2 2013 1     1  \n",
              "3 2013 1     1  \n",
              "4 2013 1     1  \n",
              "5 2013 1     1  "
            ],
            "text/latex": "A tibble: 5 × 3\n\\begin{tabular}{lll}\n year & month & day\\\\\n <int> & <int> & <int>\\\\\n\\hline\n\t 2013 & 1 & 1\\\\\n\t 2013 & 1 & 1\\\\\n\t 2013 & 1 & 1\\\\\n\t 2013 & 1 & 1\\\\\n\t 2013 & 1 & 1\\\\\n\\end{tabular}\n",
            "text/markdown": "\nA tibble: 5 × 3\n\n| year &lt;int&gt; | month &lt;int&gt; | day &lt;int&gt; |\n|---|---|---|\n| 2013 | 1 | 1 |\n| 2013 | 1 | 1 |\n| 2013 | 1 | 1 |\n| 2013 | 1 | 1 |\n| 2013 | 1 | 1 |\n\n",
            "text/html": [
              "<table class=\"dataframe\">\n",
              "<caption>A tibble: 5 × 3</caption>\n",
              "<thead>\n",
              "\t<tr><th scope=col>year</th><th scope=col>month</th><th scope=col>day</th></tr>\n",
              "\t<tr><th scope=col>&lt;int&gt;</th><th scope=col>&lt;int&gt;</th><th scope=col>&lt;int&gt;</th></tr>\n",
              "</thead>\n",
              "<tbody>\n",
              "\t<tr><td>2013</td><td>1</td><td>1</td></tr>\n",
              "\t<tr><td>2013</td><td>1</td><td>1</td></tr>\n",
              "\t<tr><td>2013</td><td>1</td><td>1</td></tr>\n",
              "\t<tr><td>2013</td><td>1</td><td>1</td></tr>\n",
              "\t<tr><td>2013</td><td>1</td><td>1</td></tr>\n",
              "</tbody>\n",
              "</table>\n"
            ]
          },
          "metadata": {
            "tags": []
          }
        }
      ]
    },
    {
      "cell_type": "markdown",
      "metadata": {
        "id": "QJUcH6j3dBtb"
      },
      "source": [
        "### Add new variables with mutate()"
      ]
    },
    {
      "cell_type": "code",
      "metadata": {
        "colab": {
          "base_uri": "https://localhost:8080/",
          "height": 309
        },
        "id": "S3pDUEkscnpU",
        "outputId": "a893341c-7077-4f71-cecf-943cc79164b2"
      },
      "source": [
        "# hour에 60을 곱하여 분으로 바꾸어준 뒤 minute과 더해 total_minute 이라는 새로운 변수를 만들었다.\n",
        "# distance를 새로 만든 변수인 total_minute으로 나누어주어 dist_per_minute 이라는 새로운 변수를 만들었다.\n",
        "\n",
        "flights %>% \n",
        "    mutate(total_minute = hour*60 + minute,\n",
        "           dist_per_minute = distance/total_minute) %>% head(3)"
      ],
      "execution_count": 49,
      "outputs": [
        {
          "output_type": "display_data",
          "data": {
            "text/plain": [
              "  year month day dep_time sched_dep_time dep_delay arr_time sched_arr_time\n",
              "1 2013 1     1   517      515            2         830      819           \n",
              "2 2013 1     1   533      529            4         850      830           \n",
              "3 2013 1     1   542      540            2         923      850           \n",
              "  arr_delay carrier ⋯ tailnum origin dest air_time distance hour minute\n",
              "1 11        UA      ⋯ N14228  EWR    IAH  227      1400     5    15    \n",
              "2 20        UA      ⋯ N24211  LGA    IAH  227      1416     5    29    \n",
              "3 33        AA      ⋯ N619AA  JFK    MIA  160      1089     5    40    \n",
              "  time_hour           total_minute dist_per_minute\n",
              "1 2013-01-01 05:00:00 315          4.444444       \n",
              "2 2013-01-01 05:00:00 329          4.303951       \n",
              "3 2013-01-01 05:00:00 340          3.202941       "
            ],
            "text/latex": "A tibble: 3 × 21\n\\begin{tabular}{lllllllllllllllllllll}\n year & month & day & dep\\_time & sched\\_dep\\_time & dep\\_delay & arr\\_time & sched\\_arr\\_time & arr\\_delay & carrier & ⋯ & tailnum & origin & dest & air\\_time & distance & hour & minute & time\\_hour & total\\_minute & dist\\_per\\_minute\\\\\n <int> & <int> & <int> & <int> & <int> & <dbl> & <int> & <int> & <dbl> & <chr> & ⋯ & <chr> & <chr> & <chr> & <dbl> & <dbl> & <dbl> & <dbl> & <dttm> & <dbl> & <dbl>\\\\\n\\hline\n\t 2013 & 1 & 1 & 517 & 515 & 2 & 830 & 819 & 11 & UA & ⋯ & N14228 & EWR & IAH & 227 & 1400 & 5 & 15 & 2013-01-01 05:00:00 & 315 & 4.444444\\\\\n\t 2013 & 1 & 1 & 533 & 529 & 4 & 850 & 830 & 20 & UA & ⋯ & N24211 & LGA & IAH & 227 & 1416 & 5 & 29 & 2013-01-01 05:00:00 & 329 & 4.303951\\\\\n\t 2013 & 1 & 1 & 542 & 540 & 2 & 923 & 850 & 33 & AA & ⋯ & N619AA & JFK & MIA & 160 & 1089 & 5 & 40 & 2013-01-01 05:00:00 & 340 & 3.202941\\\\\n\\end{tabular}\n",
            "text/markdown": "\nA tibble: 3 × 21\n\n| year &lt;int&gt; | month &lt;int&gt; | day &lt;int&gt; | dep_time &lt;int&gt; | sched_dep_time &lt;int&gt; | dep_delay &lt;dbl&gt; | arr_time &lt;int&gt; | sched_arr_time &lt;int&gt; | arr_delay &lt;dbl&gt; | carrier &lt;chr&gt; | ⋯ ⋯ | tailnum &lt;chr&gt; | origin &lt;chr&gt; | dest &lt;chr&gt; | air_time &lt;dbl&gt; | distance &lt;dbl&gt; | hour &lt;dbl&gt; | minute &lt;dbl&gt; | time_hour &lt;dttm&gt; | total_minute &lt;dbl&gt; | dist_per_minute &lt;dbl&gt; |\n|---|---|---|---|---|---|---|---|---|---|---|---|---|---|---|---|---|---|---|---|---|\n| 2013 | 1 | 1 | 517 | 515 | 2 | 830 | 819 | 11 | UA | ⋯ | N14228 | EWR | IAH | 227 | 1400 | 5 | 15 | 2013-01-01 05:00:00 | 315 | 4.444444 |\n| 2013 | 1 | 1 | 533 | 529 | 4 | 850 | 830 | 20 | UA | ⋯ | N24211 | LGA | IAH | 227 | 1416 | 5 | 29 | 2013-01-01 05:00:00 | 329 | 4.303951 |\n| 2013 | 1 | 1 | 542 | 540 | 2 | 923 | 850 | 33 | AA | ⋯ | N619AA | JFK | MIA | 160 | 1089 | 5 | 40 | 2013-01-01 05:00:00 | 340 | 3.202941 |\n\n",
            "text/html": [
              "<table class=\"dataframe\">\n",
              "<caption>A tibble: 3 × 21</caption>\n",
              "<thead>\n",
              "\t<tr><th scope=col>year</th><th scope=col>month</th><th scope=col>day</th><th scope=col>dep_time</th><th scope=col>sched_dep_time</th><th scope=col>dep_delay</th><th scope=col>arr_time</th><th scope=col>sched_arr_time</th><th scope=col>arr_delay</th><th scope=col>carrier</th><th scope=col>⋯</th><th scope=col>tailnum</th><th scope=col>origin</th><th scope=col>dest</th><th scope=col>air_time</th><th scope=col>distance</th><th scope=col>hour</th><th scope=col>minute</th><th scope=col>time_hour</th><th scope=col>total_minute</th><th scope=col>dist_per_minute</th></tr>\n",
              "\t<tr><th scope=col>&lt;int&gt;</th><th scope=col>&lt;int&gt;</th><th scope=col>&lt;int&gt;</th><th scope=col>&lt;int&gt;</th><th scope=col>&lt;int&gt;</th><th scope=col>&lt;dbl&gt;</th><th scope=col>&lt;int&gt;</th><th scope=col>&lt;int&gt;</th><th scope=col>&lt;dbl&gt;</th><th scope=col>&lt;chr&gt;</th><th scope=col>⋯</th><th scope=col>&lt;chr&gt;</th><th scope=col>&lt;chr&gt;</th><th scope=col>&lt;chr&gt;</th><th scope=col>&lt;dbl&gt;</th><th scope=col>&lt;dbl&gt;</th><th scope=col>&lt;dbl&gt;</th><th scope=col>&lt;dbl&gt;</th><th scope=col>&lt;dttm&gt;</th><th scope=col>&lt;dbl&gt;</th><th scope=col>&lt;dbl&gt;</th></tr>\n",
              "</thead>\n",
              "<tbody>\n",
              "\t<tr><td>2013</td><td>1</td><td>1</td><td>517</td><td>515</td><td>2</td><td>830</td><td>819</td><td>11</td><td>UA</td><td>⋯</td><td>N14228</td><td>EWR</td><td>IAH</td><td>227</td><td>1400</td><td>5</td><td>15</td><td>2013-01-01 05:00:00</td><td>315</td><td>4.444444</td></tr>\n",
              "\t<tr><td>2013</td><td>1</td><td>1</td><td>533</td><td>529</td><td>4</td><td>850</td><td>830</td><td>20</td><td>UA</td><td>⋯</td><td>N24211</td><td>LGA</td><td>IAH</td><td>227</td><td>1416</td><td>5</td><td>29</td><td>2013-01-01 05:00:00</td><td>329</td><td>4.303951</td></tr>\n",
              "\t<tr><td>2013</td><td>1</td><td>1</td><td>542</td><td>540</td><td>2</td><td>923</td><td>850</td><td>33</td><td>AA</td><td>⋯</td><td>N619AA</td><td>JFK</td><td>MIA</td><td>160</td><td>1089</td><td>5</td><td>40</td><td>2013-01-01 05:00:00</td><td>340</td><td>3.202941</td></tr>\n",
              "</tbody>\n",
              "</table>\n"
            ]
          },
          "metadata": {
            "tags": []
          }
        }
      ]
    },
    {
      "cell_type": "markdown",
      "metadata": {
        "id": "EBpLaXdChMDs"
      },
      "source": [
        "### Grouped summaries with summarise()\n"
      ]
    },
    {
      "cell_type": "code",
      "metadata": {
        "colab": {
          "base_uri": "https://localhost:8080/",
          "height": 188
        },
        "id": "GPc-jmpgi6_p",
        "outputId": "9f6fb8b4-6e55-4224-9d7a-d4c60867277a"
      },
      "source": [
        "# origin 별로 departure delay의 평균 구하기\n",
        "flights %>% group_by(origin) %>% \n",
        "summarise(delay = mean(dep_delay, na.rm = TRUE)) %>% head()"
      ],
      "execution_count": 50,
      "outputs": [
        {
          "output_type": "display_data",
          "data": {
            "text/plain": [
              "  origin delay   \n",
              "1 EWR    15.10795\n",
              "2 JFK    12.11216\n",
              "3 LGA    10.34688"
            ],
            "text/latex": "A tibble: 3 × 2\n\\begin{tabular}{ll}\n origin & delay\\\\\n <chr> & <dbl>\\\\\n\\hline\n\t EWR & 15.10795\\\\\n\t JFK & 12.11216\\\\\n\t LGA & 10.34688\\\\\n\\end{tabular}\n",
            "text/markdown": "\nA tibble: 3 × 2\n\n| origin &lt;chr&gt; | delay &lt;dbl&gt; |\n|---|---|\n| EWR | 15.10795 |\n| JFK | 12.11216 |\n| LGA | 10.34688 |\n\n",
            "text/html": [
              "<table class=\"dataframe\">\n",
              "<caption>A tibble: 3 × 2</caption>\n",
              "<thead>\n",
              "\t<tr><th scope=col>origin</th><th scope=col>delay</th></tr>\n",
              "\t<tr><th scope=col>&lt;chr&gt;</th><th scope=col>&lt;dbl&gt;</th></tr>\n",
              "</thead>\n",
              "<tbody>\n",
              "\t<tr><td>EWR</td><td>15.10795</td></tr>\n",
              "\t<tr><td>JFK</td><td>12.11216</td></tr>\n",
              "\t<tr><td>LGA</td><td>10.34688</td></tr>\n",
              "</tbody>\n",
              "</table>\n"
            ]
          },
          "metadata": {
            "tags": []
          }
        }
      ]
    },
    {
      "cell_type": "code",
      "metadata": {
        "colab": {
          "base_uri": "https://localhost:8080/",
          "height": 280
        },
        "id": "mXtITEs0kLsV",
        "outputId": "0c0dc025-90a1-4217-fd29-32cb59b723a0"
      },
      "source": [
        "# dest 별로 arrival delay의 평균 구하기\n",
        "flights %>% group_by(dest) %>% \n",
        "summarise(delay = mean(arr_delay, na.rm = TRUE)) %>% head()"
      ],
      "execution_count": 51,
      "outputs": [
        {
          "output_type": "display_data",
          "data": {
            "text/plain": [
              "  dest delay    \n",
              "1 ABQ   4.381890\n",
              "2 ACK   4.852273\n",
              "3 ALB  14.397129\n",
              "4 ANC  -2.500000\n",
              "5 ATL  11.300113\n",
              "6 AUS   6.019909"
            ],
            "text/latex": "A tibble: 6 × 2\n\\begin{tabular}{ll}\n dest & delay\\\\\n <chr> & <dbl>\\\\\n\\hline\n\t ABQ &  4.381890\\\\\n\t ACK &  4.852273\\\\\n\t ALB & 14.397129\\\\\n\t ANC & -2.500000\\\\\n\t ATL & 11.300113\\\\\n\t AUS &  6.019909\\\\\n\\end{tabular}\n",
            "text/markdown": "\nA tibble: 6 × 2\n\n| dest &lt;chr&gt; | delay &lt;dbl&gt; |\n|---|---|\n| ABQ |  4.381890 |\n| ACK |  4.852273 |\n| ALB | 14.397129 |\n| ANC | -2.500000 |\n| ATL | 11.300113 |\n| AUS |  6.019909 |\n\n",
            "text/html": [
              "<table class=\"dataframe\">\n",
              "<caption>A tibble: 6 × 2</caption>\n",
              "<thead>\n",
              "\t<tr><th scope=col>dest</th><th scope=col>delay</th></tr>\n",
              "\t<tr><th scope=col>&lt;chr&gt;</th><th scope=col>&lt;dbl&gt;</th></tr>\n",
              "</thead>\n",
              "<tbody>\n",
              "\t<tr><td>ABQ</td><td> 4.381890</td></tr>\n",
              "\t<tr><td>ACK</td><td> 4.852273</td></tr>\n",
              "\t<tr><td>ALB</td><td>14.397129</td></tr>\n",
              "\t<tr><td>ANC</td><td>-2.500000</td></tr>\n",
              "\t<tr><td>ATL</td><td>11.300113</td></tr>\n",
              "\t<tr><td>AUS</td><td> 6.019909</td></tr>\n",
              "</tbody>\n",
              "</table>\n"
            ]
          },
          "metadata": {
            "tags": []
          }
        }
      ]
    },
    {
      "cell_type": "markdown",
      "metadata": {
        "id": "WYQM1KePlCcK"
      },
      "source": [
        "### __Visualization__"
      ]
    },
    {
      "cell_type": "code",
      "metadata": {
        "id": "FoteD0ohkyNt"
      },
      "source": [
        "# 위에서 origin 별로 구한 departure delay의 평균을 origin_delay라는 변수에 저장한다.\n",
        "origin_delay <- flights %>% group_by(origin) %>% \n",
        "summarise(delay = mean(dep_delay, na.rm = TRUE)) "
      ],
      "execution_count": 53,
      "outputs": []
    },
    {
      "cell_type": "code",
      "metadata": {
        "colab": {
          "base_uri": "https://localhost:8080/"
        },
        "id": "gW9gMQwH1Iov",
        "outputId": "63799afc-4ad6-49a9-8e43-403f924f42f7"
      },
      "source": [
        "print(origin_delay)"
      ],
      "execution_count": 56,
      "outputs": [
        {
          "output_type": "stream",
          "text": [
            "\u001b[90m# A tibble: 3 x 2\u001b[39m\n",
            "  origin delay\n",
            "  \u001b[3m\u001b[90m<chr>\u001b[39m\u001b[23m  \u001b[3m\u001b[90m<dbl>\u001b[39m\u001b[23m\n",
            "\u001b[90m1\u001b[39m EWR     15.1\n",
            "\u001b[90m2\u001b[39m JFK     12.1\n",
            "\u001b[90m3\u001b[39m LGA     10.3\n"
          ],
          "name": "stdout"
        }
      ]
    },
    {
      "cell_type": "code",
      "metadata": {
        "colab": {
          "base_uri": "https://localhost:8080/",
          "height": 437
        },
        "id": "fIB5z0sb3av3",
        "outputId": "b06b1e86-efa6-452c-8471-fab6d9aebf60"
      },
      "source": [
        "barplot(origin_delay$delay, names = origin_delay$origin, col=rgb(0.2,0.4,0.6,0.6))"
      ],
      "execution_count": 84,
      "outputs": [
        {
          "output_type": "display_data",
          "data": {
            "image/png": "[encoded data removed]",
            "text/plain": [
              "plot without title"
            ]
          },
          "metadata": {
            "tags": [],
            "image/png": {
              "width": 420,
              "height": 420
            }
          }
        }
      ]
    },
    {
      "cell_type": "markdown",
      "metadata": {
        "id": "XFxH6_b48Y5B"
      },
      "source": [
        "origin 별로 delay되는 시간의 평균에 차이가 있다는 것을 알 수 있다.  \n",
        "LGA, JFK, EWR 순으로 평균적인 delay 시간이 적다는 사실을 알 수 있었다."
      ]
    },
    {
      "cell_type": "code",
      "metadata": {
        "id": "ViE-hVAP8XyN"
      },
      "source": [
        "# 위에서 dest 별로 구한 arrival delay의 평균을 dest_delay라는 변수에 저장한다. \n",
        "dest_delay <- flights %>% group_by(dest) %>%\n",
        "summarise(delay = mean(arr_delay, na.rm = TRUE))"
      ],
      "execution_count": 80,
      "outputs": []
    },
    {
      "cell_type": "code",
      "metadata": {
        "colab": {
          "base_uri": "https://localhost:8080/"
        },
        "id": "uqATxNN83jeA",
        "outputId": "41ab3cf9-aee9-4011-d295-7275d3d67bb8"
      },
      "source": [
        "print(dest_delay)"
      ],
      "execution_count": 81,
      "outputs": [
        {
          "output_type": "stream",
          "text": [
            "\u001b[90m# A tibble: 105 x 2\u001b[39m\n",
            "   dest  delay\n",
            "   \u001b[3m\u001b[90m<chr>\u001b[39m\u001b[23m \u001b[3m\u001b[90m<dbl>\u001b[39m\u001b[23m\n",
            "\u001b[90m 1\u001b[39m ABQ    4.38\n",
            "\u001b[90m 2\u001b[39m ACK    4.85\n",
            "\u001b[90m 3\u001b[39m ALB   14.4 \n",
            "\u001b[90m 4\u001b[39m ANC   -\u001b[31m2\u001b[39m\u001b[31m.\u001b[39m\u001b[31m5\u001b[39m \n",
            "\u001b[90m 5\u001b[39m ATL   11.3 \n",
            "\u001b[90m 6\u001b[39m AUS    6.02\n",
            "\u001b[90m 7\u001b[39m AVL    8.00\n",
            "\u001b[90m 8\u001b[39m BDL    7.05\n",
            "\u001b[90m 9\u001b[39m BGR    8.03\n",
            "\u001b[90m10\u001b[39m BHM   16.9 \n",
            "\u001b[90m# … with 95 more rows\u001b[39m\n"
          ],
          "name": "stdout"
        }
      ]
    },
    {
      "cell_type": "code",
      "metadata": {
        "colab": {
          "base_uri": "https://localhost:8080/",
          "height": 474
        },
        "id": "iv2xwMXR-XRj",
        "outputId": "26d2bfcf-9f54-4605-ebdd-57612d9cc73d"
      },
      "source": [
        "ggplot(dest_delay, aes(x=dest, y=delay)) + \n",
        "geom_bar(stat = \"identity\") +\n",
        "coord_fixed(ratio=0.5)"
      ],
      "execution_count": 93,
      "outputs": [
        {
          "output_type": "stream",
          "text": [
            "Warning message:\n",
            "“Removed 1 rows containing missing values (position_stack).”\n"
          ],
          "name": "stderr"
        },
        {
          "output_type": "display_data",
          "data": {
            "image/png": "[encoded data removed]",
            "text/plain": [
              "plot without title"
            ]
          },
          "metadata": {
            "tags": [],
            "image/png": {
              "width": 420,
              "height": 420
            }
          }
        }
      ]
    },
    {
      "cell_type": "markdown",
      "metadata": {
        "id": "biuzyhe8AZDD"
      },
      "source": [
        "destination 별로도 delay되는 시간의 평균에 차이가 있다는 사실을 알 수 있었다."
      ]
    }
  ]
}