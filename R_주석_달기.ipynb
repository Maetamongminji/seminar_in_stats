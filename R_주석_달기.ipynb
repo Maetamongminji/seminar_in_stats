{
  "nbformat": 4,
  "nbformat_minor": 0,
  "metadata": {
    "colab": {
      "name": "R_주석 달기.ipynb",
      "provenance": [],
      "authorship_tag": "ABX9TyMDMAt1ak8TuN08OZ1MBKLT",
      "include_colab_link": true
    },
    "kernelspec": {
      "name": "ir",
      "display_name": "R"
    }
  },
  "cells": [
    {
      "cell_type": "markdown",
      "metadata": {
        "id": "view-in-github",
        "colab_type": "text"
      },
      "source": [
        "<a href=\"https://colab.research.google.com/github/Maetamongminji/seminar_in_stats/blob/main/R_%EC%A3%BC%EC%84%9D_%EB%8B%AC%EA%B8%B0.ipynb\" target=\"_parent\"><img src=\"https://colab.research.google.com/assets/colab-badge.svg\" alt=\"Open In Colab\"/></a>"
      ]
    },
    {
      "cell_type": "code",
      "metadata": {
        "id": "J5lA1lKipkLK"
      },
      "source": [
        "# Practicing R comments"
      ],
      "execution_count": 1,
      "outputs": []
    },
    {
      "cell_type": "code",
      "metadata": {
        "id": "lhvuH0wYqC00"
      },
      "source": [
        ""
      ],
      "execution_count": null,
      "outputs": []
    }
  ]
}